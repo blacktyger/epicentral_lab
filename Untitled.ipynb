{
 "cells": [
  {
   "cell_type": "code",
   "execution_count": 1,
   "id": "working-lecture",
   "metadata": {},
   "outputs": [],
   "source": [
    "from app.manager.stellar import *\n",
    "from stellar_sdk import Keypair, Server, TransactionBuilder, Network, Asset, helpers\n",
    "from operator import itemgetter\n",
    "\n",
    "    \n"
   ]
  },
  {
   "cell_type": "code",
   "execution_count": 2,
   "id": "constant-weekend",
   "metadata": {},
   "outputs": [
    {
     "name": "stdout",
     "output_type": "stream",
     "text": [
      "INITIALIZE KEYS AND SOURCE ACCOUNT: GBYB6Y6SXU2Y7RXGAPWQIXO5IULILZLBLWTRHI6QSWAUGHM3BLF33A3C\n"
     ]
    }
   ],
   "source": [
    "s = StellarAPI()\n",
    "x = LiveTrade(s, s.assets['sepic'])\n"
   ]
  },
  {
   "cell_type": "code",
   "execution_count": 3,
   "id": "signed-might",
   "metadata": {},
   "outputs": [],
   "source": [
    "# z = s.server.payments().for_transaction(\n",
    "#     \"33a55bc313dd81802b51dd05d41bbd9482efe4013df9bdb6ed4c3cab564d9178\").call(\n",
    "# )\n",
    "\n",
    "# z['_embedded']['records']\n",
    "\n",
    "# x.save_network_history()\n"
   ]
  },
  {
   "cell_type": "code",
   "execution_count": 4,
   "id": "advance-accreditation",
   "metadata": {},
   "outputs": [
    {
     "name": "stdout",
     "output_type": "stream",
     "text": [
      "{'source_asset_type': 'native', 'source_amount': '2.0000000', 'destination_asset_type': 'credit_alphanum12', 'destination_asset_code': 'FEPIC', 'destination_asset_issuer': 'GD4YEDHMQK2HD7DMKAG554JK4TVOTQNPWTKR2KHL5UCSJ6ART2UA2E32', 'destination_amount': '0.0002222', 'path': []}\n",
      "\n",
      " --------------------------------------------------------\n",
      "{'source_asset_type': 'native', 'source_amount': '2.0000000', 'destination_asset_type': 'credit_alphanum4', 'destination_asset_code': 'EPIC', 'destination_asset_issuer': 'GD4YEDHMQK2HD7DMKAG554JK4TVOTQNPWTKR2KHL5UCSJ6ART2UA2E32', 'destination_amount': '1.6038275', 'path': [{'asset_type': 'credit_alphanum4', 'asset_code': 'USDC', 'asset_issuer': 'GA5ZSEJYB37JRC5AVCIA5MOP4RHTM335X2KGX3IHOJAPP5RE34K4KZVN'}, {'asset_type': 'credit_alphanum4', 'asset_code': 'USD', 'asset_issuer': 'GDUKMGUGDZQK6YHYA5Z6AY2G4XDSZPSZ3SW5UN3ARVMO6QSRDWP5YLEX'}]}\n",
      "\n",
      " --------------------------------------------------------\n",
      "{'source_asset_type': 'native', 'source_amount': '2.0000000', 'destination_asset_type': 'credit_alphanum4', 'destination_asset_code': 'EPIC', 'destination_asset_issuer': 'GD4YEDHMQK2HD7DMKAG554JK4TVOTQNPWTKR2KHL5UCSJ6ART2UA2E32', 'destination_amount': '1.5999501', 'path': [{'asset_type': 'credit_alphanum4', 'asset_code': 'USDT', 'asset_issuer': 'GCQTGZQQ5G4PTM2GL7CDIFKUBIPEC52BROAQIAPW53XBRJVN6ZJVTG6V'}, {'asset_type': 'credit_alphanum4', 'asset_code': 'USD', 'asset_issuer': 'GDUKMGUGDZQK6YHYA5Z6AY2G4XDSZPSZ3SW5UN3ARVMO6QSRDWP5YLEX'}]}\n",
      "\n",
      " --------------------------------------------------------\n",
      "{'source_asset_type': 'native', 'source_amount': '2.0000000', 'destination_asset_type': 'credit_alphanum4', 'destination_asset_code': 'EPIC', 'destination_asset_issuer': 'GD4YEDHMQK2HD7DMKAG554JK4TVOTQNPWTKR2KHL5UCSJ6ART2UA2E32', 'destination_amount': '1.5746378', 'path': [{'asset_type': 'credit_alphanum4', 'asset_code': 'EURT', 'asset_issuer': 'GAP5LETOV6YIE62YAM56STDANPRDO7ZFDBGSNHJQIYGGKSMOZAHOOS2S'}, {'asset_type': 'credit_alphanum4', 'asset_code': 'USD', 'asset_issuer': 'GDUKMGUGDZQK6YHYA5Z6AY2G4XDSZPSZ3SW5UN3ARVMO6QSRDWP5YLEX'}]}\n",
      "\n",
      " --------------------------------------------------------\n",
      "{'source_asset_type': 'native', 'source_amount': '2.0000000', 'destination_asset_type': 'credit_alphanum4', 'destination_asset_code': 'EPIC', 'destination_asset_issuer': 'GD4YEDHMQK2HD7DMKAG554JK4TVOTQNPWTKR2KHL5UCSJ6ART2UA2E32', 'destination_amount': '1.5301864', 'path': [{'asset_type': 'credit_alphanum4', 'asset_code': 'ARST', 'asset_issuer': 'GCSAZVWXZKWS4XS223M5F54H2B6XPIIXZZGP7KEAIU6YSL5HDRGCI3DG'}, {'asset_type': 'credit_alphanum4', 'asset_code': 'USD', 'asset_issuer': 'GDUKMGUGDZQK6YHYA5Z6AY2G4XDSZPSZ3SW5UN3ARVMO6QSRDWP5YLEX'}]}\n",
      "\n",
      " --------------------------------------------------------\n",
      "{'source_asset_type': 'native', 'source_amount': '2.0000000', 'destination_asset_type': 'credit_alphanum4', 'destination_asset_code': 'EPIC', 'destination_asset_issuer': 'GD4YEDHMQK2HD7DMKAG554JK4TVOTQNPWTKR2KHL5UCSJ6ART2UA2E32', 'destination_amount': '1.5286275', 'path': [{'asset_type': 'credit_alphanum4', 'asset_code': 'USD', 'asset_issuer': 'GAEDZ7BHMDYEMU6IJT3CTTGDUSLZWS5CQWZHGP4XUOIDG5ISH3AFAEK2'}, {'asset_type': 'credit_alphanum4', 'asset_code': 'USD', 'asset_issuer': 'GDUKMGUGDZQK6YHYA5Z6AY2G4XDSZPSZ3SW5UN3ARVMO6QSRDWP5YLEX'}]}\n",
      "\n",
      " --------------------------------------------------------\n",
      "{'source_asset_type': 'native', 'source_amount': '2.0000000', 'destination_asset_type': 'native', 'destination_amount': '2.0000000', 'path': []}\n",
      "\n",
      " --------------------------------------------------------\n",
      "\n",
      "2 --------------------------------------------------------\n",
      "{'source_asset_type': 'native', 'source_amount': '2.0000000', 'destination_asset_type': 'credit_alphanum4', 'destination_asset_code': 'EPIC', 'destination_asset_issuer': 'GD4YEDHMQK2HD7DMKAG554JK4TVOTQNPWTKR2KHL5UCSJ6ART2UA2E32', 'destination_amount': '1.6038275', 'path': [{'asset_type': 'credit_alphanum4', 'asset_code': 'USDC', 'asset_issuer': 'GA5ZSEJYB37JRC5AVCIA5MOP4RHTM335X2KGX3IHOJAPP5RE34K4KZVN'}, {'asset_type': 'credit_alphanum4', 'asset_code': 'USD', 'asset_issuer': 'GDUKMGUGDZQK6YHYA5Z6AY2G4XDSZPSZ3SW5UN3ARVMO6QSRDWP5YLEX'}]}\n",
      "\n",
      "2 --------------------------------------------------------\n",
      "{'source_asset_type': 'native', 'source_amount': '2.0000000', 'destination_asset_type': 'credit_alphanum4', 'destination_asset_code': 'EPIC', 'destination_asset_issuer': 'GD4YEDHMQK2HD7DMKAG554JK4TVOTQNPWTKR2KHL5UCSJ6ART2UA2E32', 'destination_amount': '1.5999501', 'path': [{'asset_type': 'credit_alphanum4', 'asset_code': 'USDT', 'asset_issuer': 'GCQTGZQQ5G4PTM2GL7CDIFKUBIPEC52BROAQIAPW53XBRJVN6ZJVTG6V'}, {'asset_type': 'credit_alphanum4', 'asset_code': 'USD', 'asset_issuer': 'GDUKMGUGDZQK6YHYA5Z6AY2G4XDSZPSZ3SW5UN3ARVMO6QSRDWP5YLEX'}]}\n",
      "\n",
      "2 --------------------------------------------------------\n",
      "{'source_asset_type': 'native', 'source_amount': '2.0000000', 'destination_asset_type': 'credit_alphanum4', 'destination_asset_code': 'EPIC', 'destination_asset_issuer': 'GD4YEDHMQK2HD7DMKAG554JK4TVOTQNPWTKR2KHL5UCSJ6ART2UA2E32', 'destination_amount': '1.5746378', 'path': [{'asset_type': 'credit_alphanum4', 'asset_code': 'EURT', 'asset_issuer': 'GAP5LETOV6YIE62YAM56STDANPRDO7ZFDBGSNHJQIYGGKSMOZAHOOS2S'}, {'asset_type': 'credit_alphanum4', 'asset_code': 'USD', 'asset_issuer': 'GDUKMGUGDZQK6YHYA5Z6AY2G4XDSZPSZ3SW5UN3ARVMO6QSRDWP5YLEX'}]}\n",
      "\n",
      "2 --------------------------------------------------------\n",
      "{'source_asset_type': 'native', 'source_amount': '2.0000000', 'destination_asset_type': 'credit_alphanum4', 'destination_asset_code': 'EPIC', 'destination_asset_issuer': 'GD4YEDHMQK2HD7DMKAG554JK4TVOTQNPWTKR2KHL5UCSJ6ART2UA2E32', 'destination_amount': '1.5301864', 'path': [{'asset_type': 'credit_alphanum4', 'asset_code': 'ARST', 'asset_issuer': 'GCSAZVWXZKWS4XS223M5F54H2B6XPIIXZZGP7KEAIU6YSL5HDRGCI3DG'}, {'asset_type': 'credit_alphanum4', 'asset_code': 'USD', 'asset_issuer': 'GDUKMGUGDZQK6YHYA5Z6AY2G4XDSZPSZ3SW5UN3ARVMO6QSRDWP5YLEX'}]}\n",
      "\n",
      "2 --------------------------------------------------------\n",
      "{'source_asset_type': 'native', 'source_amount': '2.0000000', 'destination_asset_type': 'credit_alphanum4', 'destination_asset_code': 'EPIC', 'destination_asset_issuer': 'GD4YEDHMQK2HD7DMKAG554JK4TVOTQNPWTKR2KHL5UCSJ6ART2UA2E32', 'destination_amount': '1.5286275', 'path': [{'asset_type': 'credit_alphanum4', 'asset_code': 'USD', 'asset_issuer': 'GAEDZ7BHMDYEMU6IJT3CTTGDUSLZWS5CQWZHGP4XUOIDG5ISH3AFAEK2'}, {'asset_type': 'credit_alphanum4', 'asset_code': 'USD', 'asset_issuer': 'GDUKMGUGDZQK6YHYA5Z6AY2G4XDSZPSZ3SW5UN3ARVMO6QSRDWP5YLEX'}]}\n",
      "0 1.6038275\n",
      "PATHS PERCENTAGE 100.000%\n",
      "PATH ASSET: USDC\n",
      "NO DIRECT PATH - BRIDGE ASSET: [<stellar_sdk.asset.Asset object at 0x00000262C65E8B20>]\n"
     ]
    }
   ],
   "source": [
    "paths = x.get_send_paths(\n",
    "            source_asset=x.data.assets['xlm'],\n",
    "            source_amount=2,\n",
    "            destination=x.data.epic_gateway_addr,\n",
    "            )\n",
    "# print(paths)"
   ]
  },
  {
   "cell_type": "code",
   "execution_count": 5,
   "id": "material-ferry",
   "metadata": {
    "scrolled": true
   },
   "outputs": [
    {
     "name": "stdout",
     "output_type": "stream",
     "text": [
      "SEND PATHS FOUND\n",
      "TRADE 0.5 XLM FOR 0.5376344 EPIC\n",
      "ADDED TX: d68d0e1a18e12c7f72a85df7bcbf55d99aec9e9aeb75c16ccb40870005d97daa\n"
     ]
    }
   ],
   "source": [
    "\n",
    "params = {\n",
    "    'send_amount': \"0.5\",\n",
    "    'send_code': 'XLM',\n",
    "    'set_timeout': 60,\n",
    "    'text_memo': 'keybaseid_blacktyg3r',\n",
    "}\n",
    "x.build_transaction(params)\n",
    "# x.send_tx()\n"
   ]
  },
  {
   "cell_type": "code",
   "execution_count": null,
   "id": "streaming-municipality",
   "metadata": {},
   "outputs": [],
   "source": []
  },
  {
   "cell_type": "code",
   "execution_count": null,
   "id": "accredited-tomato",
   "metadata": {},
   "outputs": [],
   "source": []
  },
  {
   "cell_type": "code",
   "execution_count": 155,
   "id": "turkish-snowboard",
   "metadata": {},
   "outputs": [],
   "source": [
    "# transactions = server.transactions() \\\n",
    "#     .for_account(account_id=\"GBYB6Y6SXU2Y7RXGAPWQIXO5IULILZLBLWTRHI6QSWAUGHM3BLF33A3C\") \\\n",
    "#     .call()\n",
    "# for t in transactions['_embedded']['records']:\n",
    "#     for k, v in t.items():\n",
    "#         print(k, '-', v)\n",
    "\n"
   ]
  },
  {
   "cell_type": "code",
   "execution_count": 150,
   "id": "seeing-giant",
   "metadata": {},
   "outputs": [],
   "source": [
    "[{'id': 'c45c9e47-4a70-4be9-8fb6-b17a679ca0d4', 'dest_min': 15.0, 'source_send': 22.5, 'receive_address': 'keybaseid_blacktyg3r', 'receive_method': 'keybase', 'send_add\n",
    "ress': 'GBYB6Y6SXU2Y7RXGAPWQIXO5IULILZLBLWTRHI6QSWAUGHM3BLF33A3C', 'memo': 'c45c9e47'}]\n"
   ]
  },
  {
   "cell_type": "code",
   "execution_count": 151,
   "id": "solid-invite",
   "metadata": {},
   "outputs": [
    {
     "data": {
      "text/plain": [
       "<function __main__.confirm_user_tx(self, amount)>"
      ]
     },
     "execution_count": 151,
     "metadata": {},
     "output_type": "execute_result"
    }
   ],
   "source": []
  },
  {
   "cell_type": "code",
   "execution_count": 29,
   "id": "roman-aurora",
   "metadata": {},
   "outputs": [
    {
     "data": {
      "text/plain": [
       "{'_links': {'self': {'href': 'https://horizon.stellar.org/transactions/548dfd69ec2ba2c956e1de6d9fc2eb2fabbb941c29b92c006c83dbc997a041aa/payments?cursor=&limit=10&order=asc'},\n",
       "  'next': {'href': 'https://horizon.stellar.org/transactions/548dfd69ec2ba2c956e1de6d9fc2eb2fabbb941c29b92c006c83dbc997a041aa/payments?cursor=145017633719767041&limit=10&order=asc'},\n",
       "  'prev': {'href': 'https://horizon.stellar.org/transactions/548dfd69ec2ba2c956e1de6d9fc2eb2fabbb941c29b92c006c83dbc997a041aa/payments?cursor=145017633719767041&limit=10&order=desc'}},\n",
       " '_embedded': {'records': [{'_links': {'self': {'href': 'https://horizon.stellar.org/operations/145017633719767041'},\n",
       "     'transaction': {'href': 'https://horizon.stellar.org/transactions/548dfd69ec2ba2c956e1de6d9fc2eb2fabbb941c29b92c006c83dbc997a041aa'},\n",
       "     'effects': {'href': 'https://horizon.stellar.org/operations/145017633719767041/effects'},\n",
       "     'succeeds': {'href': 'https://horizon.stellar.org/effects?order=desc&cursor=145017633719767041'},\n",
       "     'precedes': {'href': 'https://horizon.stellar.org/effects?order=asc&cursor=145017633719767041'}},\n",
       "    'id': '145017633719767041',\n",
       "    'paging_token': '145017633719767041',\n",
       "    'transaction_successful': True,\n",
       "    'source_account': 'GB3HHUFBMBRYUX535RVILYN3AZTCUFNEUJIU72B4ZHWDA35VZHZXP726',\n",
       "    'type': 'create_account',\n",
       "    'type_i': 0,\n",
       "    'created_at': '2021-01-29T20:04:19Z',\n",
       "    'transaction_hash': '548dfd69ec2ba2c956e1de6d9fc2eb2fabbb941c29b92c006c83dbc997a041aa',\n",
       "    'starting_balance': '2.0000000',\n",
       "    'funder': 'GB3HHUFBMBRYUX535RVILYN3AZTCUFNEUJIU72B4ZHWDA35VZHZXP726',\n",
       "    'account': 'GBYB6Y6SXU2Y7RXGAPWQIXO5IULILZLBLWTRHI6QSWAUGHM3BLF33A3C'}]}}"
      ]
     },
     "execution_count": 29,
     "metadata": {},
     "output_type": "execute_result"
    }
   ],
   "source": [
    "o = s.server.payments().for_transaction('548dfd69ec2ba2c956e1de6d9fc2eb2fabbb941c29b92c006c83dbc997a041aa').call()\n",
    "o"
   ]
  },
  {
   "cell_type": "code",
   "execution_count": null,
   "id": "committed-jesus",
   "metadata": {},
   "outputs": [],
   "source": []
  },
  {
   "cell_type": "code",
   "execution_count": null,
   "id": "young-clock",
   "metadata": {},
   "outputs": [],
   "source": []
  }
 ],
 "metadata": {
  "kernelspec": {
   "display_name": "Django Shell-Plus",
   "language": "python",
   "name": "django_extensions"
  },
  "language_info": {
   "codemirror_mode": {
    "name": "ipython",
    "version": 3
   },
   "file_extension": ".py",
   "mimetype": "text/x-python",
   "name": "python",
   "nbconvert_exporter": "python",
   "pygments_lexer": "ipython3",
   "version": "3.8.2"
  },
  "toc": {
   "base_numbering": 1,
   "nav_menu": {},
   "number_sections": true,
   "sideBar": true,
   "skip_h1_title": false,
   "title_cell": "Table of Contents",
   "title_sidebar": "Contents",
   "toc_cell": false,
   "toc_position": {},
   "toc_section_display": true,
   "toc_window_display": false
  }
 },
 "nbformat": 4,
 "nbformat_minor": 5
}
